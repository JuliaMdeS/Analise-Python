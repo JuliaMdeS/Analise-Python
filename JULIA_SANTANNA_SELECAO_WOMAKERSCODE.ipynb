{
  "cells": [
    {
      "cell_type": "markdown",
      "metadata": {
        "id": "Z55f1u4p4oHu"
      },
      "source": [
        "### Bem vindas ao desafio de python do bootcamp Tech Minas da WoMakersCode!\n",
        "Neste notebook, voce deve escrever o codigo python em resposta à cada uma das perguntas. Esteja atenta ao enunciado do problema!\n"
      ]
    },
    {
      "cell_type": "markdown",
      "metadata": {
        "id": "oFGdIzuu5W7b"
      },
      "source": [
        "### Desafio 1\n",
        "Escreva uma função em python que lê dois números inteiros (a,b) e gere como resultado as seguintes operações:adição, subtração, multiplicação e divisão. Execute a funçao na celula abaixo, deixando visivel exemplos de resultados.\n"
      ]
    },
    {
      "cell_type": "code",
      "execution_count": null,
      "metadata": {
        "id": "LzCl-VH14t4a"
      },
      "outputs": [],
      "source": [
        "##### ESCREVER A FUNÇAO ABAIXO\n",
        "def operations(a,b):\n",
        "  #### Escrever abaixo\n",
        "  print(f' (Soma) a + b = {a+b}')\n",
        "  print(f' (Subtração) a - b = {a-b}')\n",
        "  print(f' (Multiplicação) a * b = {a*b}')\n",
        "  print(f' (Divisão) a / b = {a/b}')"
      ]
    },
    {
      "cell_type": "code",
      "execution_count": null,
      "metadata": {
        "colab": {
          "base_uri": "https://localhost:8080/"
        },
        "id": "kMNcvrYZ4krA",
        "outputId": "d5556f1f-a876-40de-b89f-1573334772ea"
      },
      "outputs": [
        {
          "name": "stdout",
          "output_type": "stream",
          "text": [
            " (Soma) a + b = 30\n",
            " (Subtração) a - b = -10\n",
            " (Multiplicação) a * b = 200\n",
            " (Divisão) a / b = 0.5\n"
          ]
        }
      ],
      "source": [
        "#### RODAR A FUNÇAO\n",
        "operations(10,20)\n"
      ]
    },
    {
      "cell_type": "markdown",
      "metadata": {
        "id": "m_tFtRo5581u"
      },
      "source": [
        "### Desafio 2\n",
        "Escreva uma função em python que leia como input uma idade e retorne a classificaçao da ideade do individuo da seguinte forma em:\n",
        "\n",
        "*  Criança – 0 a 12 anos\n",
        "*  Adolescente – 13 a 17 anos\n",
        "*  Adulto – acima de 18 anos\n",
        "\n",
        "\n",
        "Se a idade for um número negativo, mostrar a mensagem que a \"idade inválida\"\n",
        "\n"
      ]
    },
    {
      "cell_type": "code",
      "execution_count": null,
      "metadata": {
        "id": "cL-OpHGv6hyc"
      },
      "outputs": [],
      "source": [
        "##### ESCREVER A FUNCAO ABAIXO\n",
        "def classifica_idade(idade):\n",
        "  #### escrever abaixo\n",
        "  if (idade >= 0 and idade <= 12):\n",
        "    print('Crianca')\n",
        "  else:\n",
        "    if (idade >= 13 and idade <= 17):\n",
        "      print('Adolescente')\n",
        "    else:\n",
        "      if (idade > 17):\n",
        "        print('Adulto') \n",
        "      else:\n",
        "        print('Idade inválida')\n"
      ]
    },
    {
      "cell_type": "code",
      "execution_count": null,
      "metadata": {
        "colab": {
          "base_uri": "https://localhost:8080/"
        },
        "id": "49IE2lI66zNO",
        "outputId": "2f36380f-14ed-48b3-8ca9-1041a5b7a7e9"
      },
      "outputs": [
        {
          "name": "stdout",
          "output_type": "stream",
          "text": [
            "Crianca\n",
            "Adolescente\n",
            "Adulto\n",
            "Idade inválida\n"
          ]
        }
      ],
      "source": [
        "#### RODAR A FUNCAO\n",
        "classifica_idade(8)\n",
        "classifica_idade(16)\n",
        "classifica_idade(55)\n",
        "classifica_idade(-1)"
      ]
    },
    {
      "cell_type": "markdown",
      "metadata": {
        "id": "wIGGNN_v60s4"
      },
      "source": [
        "### Desafio 3\n",
        "Crie uma função em python que receba como input um determinado horário em horas e retorne a conversao deste horário para segundos\n"
      ]
    },
    {
      "cell_type": "code",
      "execution_count": null,
      "metadata": {
        "id": "JOF_tcax7ABd"
      },
      "outputs": [],
      "source": [
        "##### ESCREVER A FUNCAO ABAIXO\n",
        "def time_converter(t):\n",
        "  ##### escrever abaixo\n",
        "  print(t * 3600, 'segundos')"
      ]
    },
    {
      "cell_type": "code",
      "execution_count": null,
      "metadata": {
        "colab": {
          "base_uri": "https://localhost:8080/"
        },
        "id": "AJf1IqiC7Mq_",
        "outputId": "0df628aa-8e6a-495d-ea91-9488da57cd2c"
      },
      "outputs": [
        {
          "name": "stdout",
          "output_type": "stream",
          "text": [
            "10800 segundos\n"
          ]
        }
      ],
      "source": [
        "##### RODAR A FUNCAO\n",
        "time_converter(3)\n",
        "\n",
        "\n"
      ]
    },
    {
      "cell_type": "markdown",
      "metadata": {
        "id": "RCrTUh1E7OWn"
      },
      "source": [
        "### Desafio 4\n",
        "Crie uma função em python que calcule a média artimética de uma aluna que cursou a disciplina de Programação I. A funcao deve receber como input as notas M1, M2 e M3 e calcular a média. Após a média calculada, a funcao deve anunciar se a aluna foi aprovado, reprovado ou pegou exame de acordo conm a seguinte classificacao:\n",
        "\n",
        "* Se a média estiver entre 0.0 e 4.0, o aluno está reprovado\n",
        "* Se a média estiver entre 4.1 e 6.0, o aluno pegou exame\n",
        "* Se a média for maior do que 6.0, o aluno está aprovado\n",
        "* Se o aluno pegou exame, deve ser lida a nota do exame. Se a nota do exame for maior do que 6.0, está aprovado, senão; está reprovado\n"
      ]
    },
    {
      "cell_type": "code",
      "execution_count": null,
      "metadata": {
        "id": "VzNdyWZE70oc"
      },
      "outputs": [],
      "source": [
        "##### ESCREVER A FUNCAO ABAIXO\n",
        "def calcula_media(M1,M2,M3):\n",
        "  ###### escrever abaixo\n",
        "  media = (M1 + M2 + M3) / 3\n",
        "  if ((media >= 0) and (media <= 4)):\n",
        "    print(media,'Aluno está Reprovado')\n",
        "  else:\n",
        "     if (media >= 4.1 and media <= 6.0):\n",
        "      print(media)\n",
        "      print('Aluno pegou exame')\n",
        "      notaexame = float(input('digite sua nota:'))\n",
        "      if (notaexame >= 6): \n",
        "        print('Aluno aprovado')\n",
        "      else:\n",
        "        print ('Aluno reprovado')\n",
        "  "
      ]
    },
    {
      "cell_type": "code",
      "execution_count": null,
      "metadata": {
        "colab": {
          "base_uri": "https://localhost:8080/"
        },
        "id": "cY7vMECS77QY",
        "outputId": "43885654-5849-49c7-b0cc-b29206d1dc8e"
      },
      "outputs": [
        {
          "name": "stdout",
          "output_type": "stream",
          "text": [
            "5.366666666666667\n",
            "Aluno pegou exame\n",
            "digite sua nota:7\n",
            "Aluno aprovado\n"
          ]
        }
      ],
      "source": [
        "##### RODAR A FUNCAO\n",
        "calcula_media(3,3.1,10)\n"
      ]
    },
    {
      "cell_type": "markdown",
      "metadata": {
        "id": "eI9AkpYT788b"
      },
      "source": [
        "### Desafio 5\n",
        "Dado a seguinte lista: \n",
        "* equipes_bootcamp_dados = [BerthaLutz, GraceHopper, JaquelineGoes, SarahGilbert]\n",
        "\n",
        "1. Crie uma função em python que conte quantas vezes aparece a letra a em cada elemento da lista. Seu resultado deve ser uma lista . exemplo: [4,0,1,2]\n",
        "\n",
        "2. Leia a lista de alunas: ['Maria', 'Ana','Camila','Mariana','Elaine','Patricia','Marina','Erica','Larissa','Luiza', 'Nicole','Bruna']\n",
        "\n",
        "3. Crie uma função que atribua cada uma das alunas em uma das equipes da lista equipes_bootcamp_dados, de modo que cada equipe pode ter 3 alunas no máximo.\n",
        "\n",
        " Para isso ordene em alfabética. O seu resultado deve ser um dicionário python. exemplo {'BerthaLutz': ['Ana', 'Bruna', 'Camila'], 'GraceHopper': ['Elaine','Erika','Luiza'],... }\n"
      ]
    },
    {
      "cell_type": "code",
      "execution_count": null,
      "metadata": {
        "id": "Zk6U7KnL8WBd"
      },
      "outputs": [],
      "source": [
        "##### ESCREVER A FUNCAO DA ETAPA 1\n",
        "def contador(equipes_bootcamp_dados):\n",
        "  #### escrever abaixo\n",
        "  print(equipes_bootcamp_dados)\n",
        "  lst = list(map(lambda x : x.count('a'), equipes_bootcamp_dados))\n",
        "  print(lst)\n",
        "\n",
        "  "
      ]
    },
    {
      "cell_type": "code",
      "execution_count": null,
      "metadata": {
        "colab": {
          "base_uri": "https://localhost:8080/"
        },
        "id": "snTgwxt_8hcj",
        "outputId": "f400c238-e158-41a8-d56b-f0f061e9fcc8"
      },
      "outputs": [
        {
          "name": "stdout",
          "output_type": "stream",
          "text": [
            "['BerthaLutz', 'GraceHopper', 'JaquelineGoes', 'SarahGilbert']\n",
            "[1, 1, 1, 2]\n"
          ]
        }
      ],
      "source": [
        "###### RODAR A ETAPA 1\n",
        "equipes_bootcamp_dados = ['BerthaLutz', 'GraceHopper', 'JaquelineGoes', 'SarahGilbert']\n",
        "contador(equipes_bootcamp_dados)"
      ]
    },
    {
      "cell_type": "code",
      "execution_count": null,
      "metadata": {
        "id": "xgkMVykO8jB-"
      },
      "outputs": [],
      "source": [
        "##### LER A ETAPA 2\n",
        "lista_alunas = ['Maria', 'Ana','Camila','Mariana','Elaine','Patricia','Marina','Erica','Larissa','Luiza', 'Nicole','Bruna']"
      ]
    },
    {
      "cell_type": "code",
      "execution_count": null,
      "metadata": {
        "id": "_ySYFooB8jFF"
      },
      "outputs": [],
      "source": [
        "##### ESCREVER A FUNCAO DA ETAPA 3\n",
        "def ordenacao(lista_alunas, equipes_bootcamp_dados):\n",
        "  ### escrever abaixo\n",
        "  lista_alunas_ordenada = sorted(lista_alunas)\n",
        "  dicionario = {}\n",
        "  i = 0\n",
        "  j = 3\n",
        "  for elemento in equipes_bootcamp_dados :\n",
        "    dicionario[elemento] = lista_alunas_ordenada[i:j]\n",
        "    i = i + 3\n",
        "    j = j + 3\n",
        "  return(dicionario)"
      ]
    },
    {
      "cell_type": "code",
      "execution_count": null,
      "metadata": {
        "colab": {
          "base_uri": "https://localhost:8080/"
        },
        "id": "8qZnUInj9Uvr",
        "outputId": "2c1a567f-3a86-492d-e777-60f4e1cf5518"
      },
      "outputs": [
        {
          "name": "stdout",
          "output_type": "stream",
          "text": [
            "Equipes: {'BerthaLutz': ['Ana', 'Bruna', 'Camila'], 'GraceHopper': ['Elaine', 'Erica', 'Larissa'], 'JaquelineGoes': ['Luiza', 'Maria', 'Mariana'], 'SarahGilbert': ['Marina', 'Nicole', 'Patricia']}\n"
          ]
        }
      ],
      "source": [
        "##### RODAR A FUNCAO DA ETAPA 3\n",
        "print(\"Equipes:\",ordenacao(lista_alunas, equipes_bootcamp_dados))"
      ]
    },
    {
      "cell_type": "markdown",
      "metadata": {
        "id": "AXoFPjyx82gG"
      },
      "source": [
        "### Desafio 6\n",
        "Escreva uma função em python que leia uma temperatura em graus Celsius e retorne a conversao dela em graus Fahrenheit. \n",
        "\n",
        "A fórmula de conversão é F = (9 * C + 160) / 5, na qual F é a temperatura em Fahrenheit e C é a temperatura em graus Celsius\n",
        "\n",
        "\n"
      ]
    },
    {
      "cell_type": "code",
      "execution_count": null,
      "metadata": {
        "id": "OsCU2Msu9D9o"
      },
      "outputs": [],
      "source": [
        "##### ESCREVER A FUNCAO\n",
        "def conversor_temperatura(temperatura):\n",
        "  ### escrever abaixo\n",
        "  return (9 * temperatura + 160) / 5"
      ]
    },
    {
      "cell_type": "code",
      "execution_count": null,
      "metadata": {
        "colab": {
          "base_uri": "https://localhost:8080/"
        },
        "id": "UBCdsBgi9Xa2",
        "outputId": "5dca2c86-949e-458d-bf86-6471d05a8107"
      },
      "outputs": [
        {
          "name": "stdout",
          "output_type": "stream",
          "text": [
            "A temperatura em Fahrenheit é: 77.0\n"
          ]
        }
      ],
      "source": [
        "##### RODAR A FUNCAO\n",
        "#Recebe um valor em Celsius e retorna um valor em Fahrenheit\n",
        "print(\"A temperatura em Fahrenheit é:\", conversor_temperatura(25))"
      ]
    }
  ],
  "metadata": {
    "colab": {
      "provenance": []
    },
    "kernelspec": {
      "display_name": "Python 3",
      "language": "python",
      "name": "python3"
    },
    "language_info": {
      "name": "python",
      "version": "3.9.13 (tags/v3.9.13:6de2ca5, May 17 2022, 16:36:42) [MSC v.1929 64 bit (AMD64)]"
    },
    "vscode": {
      "interpreter": {
        "hash": "6f38cfe8922d941c92fc591066a74813a9285a455efec88dafae5eaa218834d9"
      }
    }
  },
  "nbformat": 4,
  "nbformat_minor": 0
}
